{
 "cells": [
  {
   "cell_type": "code",
   "execution_count": 1,
   "id": "13e84028-5e7e-4cf6-a5e4-30994f0df84d",
   "metadata": {},
   "outputs": [
    {
     "ename": "ModuleNotFoundError",
     "evalue": "No module named 'requests_html'",
     "output_type": "error",
     "traceback": [
      "\u001b[1;31m---------------------------------------------------------------------------\u001b[0m",
      "\u001b[1;31mModuleNotFoundError\u001b[0m                       Traceback (most recent call last)",
      "Cell \u001b[1;32mIn[1], line 1\u001b[0m\n\u001b[1;32m----> 1\u001b[0m \u001b[38;5;28;01mfrom\u001b[39;00m \u001b[38;5;21;01mrequests_html\u001b[39;00m \u001b[38;5;28;01mimport\u001b[39;00m HTMLSession\n\u001b[0;32m      2\u001b[0m \u001b[38;5;28;01mimport\u001b[39;00m \u001b[38;5;21;01mcsv\u001b[39;00m   \n\u001b[0;32m      3\u001b[0m \u001b[38;5;28;01mimport\u001b[39;00m \u001b[38;5;21;01mnest_asyncio\u001b[39;00m\n",
      "\u001b[1;31mModuleNotFoundError\u001b[0m: No module named 'requests_html'"
     ]
    }
   ],
   "source": [
    "from requests_html import HTMLSession\n",
    "import csv   \n",
    "import nest_asyncio\n",
    "\n",
    "nest_asyncio.apply()\n",
    "session = HTMLSession()\n",
    "baseURL = 'https://www.asriran.com'\n",
    "searchURL = baseURL + '/fa/archive?service_id=-1&sec_id=-1&cat_id=-1&rpp=4000&from_date=1401/01/01&to_date=1401/01/28&p=1'"
   ]
  },
  {
   "cell_type": "code",
   "execution_count": 2,
   "id": "094afbe6-e7dc-4e86-98cc-fce4b16d3f3a",
   "metadata": {},
   "outputs": [
    {
     "ename": "NameError",
     "evalue": "name 'HTMLSession' is not defined",
     "output_type": "error",
     "traceback": [
      "\u001b[1;31m---------------------------------------------------------------------------\u001b[0m",
      "\u001b[1;31mNameError\u001b[0m                                 Traceback (most recent call last)",
      "Cell \u001b[1;32mIn[2], line 1\u001b[0m\n\u001b[1;32m----> 1\u001b[0m asession \u001b[38;5;241m=\u001b[39m \u001b[43mHTMLSession\u001b[49m()\n\u001b[0;32m      2\u001b[0m r \u001b[38;5;241m=\u001b[39m  asession\u001b[38;5;241m.\u001b[39mget(searchURL)\n\u001b[0;32m      3\u001b[0m resp\u001b[38;5;241m=\u001b[39mr\u001b[38;5;241m.\u001b[39mtext\n",
      "\u001b[1;31mNameError\u001b[0m: name 'HTMLSession' is not defined"
     ]
    }
   ],
   "source": [
    "asession = HTMLSession()\n",
    "r =  asession.get(searchURL)\n",
    "resp=r.text\n",
    "#print(resp)"
   ]
  },
  {
   "cell_type": "code",
   "execution_count": null,
   "id": "de57329a-d3b6-4afa-81d4-202dba8a22a7",
   "metadata": {},
   "outputs": [],
   "source": [
    "news = r.html.find('.vizhe_title')\n",
    "# with open('dataset.csv', 'w') as f:\n",
    "#     writer = csv.writer(f)\n",
    "with open('dataset.csv', 'w', encoding='utf-8-sig', newline='') as file:\n",
    "    for item in news:\n",
    "        data=[]\n",
    "        itemNews = HTMLSession()\n",
    "        r = session.get(str(item.absolute_links)[2:][:-2])\n",
    "        respNews = r.text\n",
    "        strParagraph=''\n",
    "\n",
    "        data.append(r.html.find('.news_nav.news_id_c')[0].text)\n",
    "        data.append(r.html.find('div.header_pdate')[0].text)\n",
    "        data.append(r.html.find('h1.title a[title]')[0].text)\n",
    "        data.append(r.html.find('div.news_path a')[1].text)\n",
    "        \n",
    "        if len(r.html.find('div.subtitle')) != 0:\n",
    "            data.append(r.html.find('div.subtitle')[0].text)\n",
    "        else:\n",
    "            data.append('')\n",
    "            \n",
    "        if len(r.html.find('div.body p')) != 0:\n",
    "            data.append(r.html.find('div.body p')[0].text)\n",
    "            for par in r.html.find('div.body p'):\n",
    "                strParagraph += par.text\n",
    "                data.append(strParagraph)\n",
    "        else:\n",
    "            data.append('')\n",
    "        \n",
    "        if len(r.html.find('a.link_en')) != 0:\n",
    "            data.append(r.html.find('a.link_en')[0].text)\n",
    "        else:\n",
    "            data.append('')\n",
    "        \n",
    "        if len(r.html.find('divtags_title')) != 0:\n",
    "            data.append(r.html.find('divtags_title'))\n",
    "        else:\n",
    "            data.append('')\n",
    "            \n",
    "        writer = csv.writer(file)\n",
    "        writer.writerow(data)"
   ]
  },
  {
   "cell_type": "code",
   "execution_count": null,
   "id": "e87e6a82",
   "metadata": {},
   "outputs": [],
   "source": []
  }
 ],
 "metadata": {
  "kernelspec": {
   "display_name": "Python 3 (ipykernel)",
   "language": "python",
   "name": "python3"
  },
  "language_info": {
   "codemirror_mode": {
    "name": "ipython",
    "version": 3
   },
   "file_extension": ".py",
   "mimetype": "text/x-python",
   "name": "python",
   "nbconvert_exporter": "python",
   "pygments_lexer": "ipython3",
   "version": "3.11.1"
  }
 },
 "nbformat": 4,
 "nbformat_minor": 5
}
