{
 "cells": [
  {
   "cell_type": "markdown",
   "metadata": {},
   "source": [
    "Loading elasticsearch"
   ]
  },
  {
   "cell_type": "code",
   "execution_count": 110,
   "metadata": {},
   "outputs": [],
   "source": [
    "from elasticsearch import Elasticsearch\n",
    "import pandas as pd\n",
    "import re\n",
    "import json\n",
    "import os\n",
    "\n",
    "es = Elasticsearch(\n",
    "    \"http://localhost:9200\",\n",
    "    basic_auth=(\"elastic\", \"O+1q7JnmIkx=CGz_wf8m\")\n",
    ")\n",
    "\n",
    "# print(es.ping())"
   ]
  },
  {
   "cell_type": "code",
   "execution_count": 60,
   "metadata": {},
   "outputs": [
    {
     "data": {
      "text/plain": [
       "ObjectApiResponse({'question': {'aliases': {}, 'mappings': {'properties': {'Body': {'type': 'text'}, 'ID': {'type': 'integer'}, 'Tags': {'type': 'text'}}}, 'settings': {'index': {'routing': {'allocation': {'include': {'_tier_preference': 'data_content'}}}, 'number_of_shards': '1', 'provided_name': 'question', 'creation_date': '1672875246978', 'number_of_replicas': '1', 'uuid': 'Dvo8tKH_SmW3euBKSjNQbA', 'version': {'created': '8050399'}}}}})"
      ]
     },
     "execution_count": 60,
     "metadata": {},
     "output_type": "execute_result"
    }
   ],
   "source": [
    "# Create index Question file\n",
    "dir_path = r'C:\\\\App\\\\Data\\\\Question'\n",
    "\n",
    "files_list=os.listdir(dir_path)\n",
    "files_list=['C:\\\\App\\\\Data\\\\Question\\\\'+x for x in files_list]\n",
    "\n",
    "df_q = pd.concat(map(pd.read_csv, files_list))\n",
    "df_q = df_q.fillna(\"\")\n",
    "\n",
    "mapping = {\n",
    "     \"properties\": {\n",
    "            \"ID\": {\"type\": \"integer\"},\n",
    "            \"Body\": {\"type\": \"text\"},\n",
    "            \"Tags\": {\"type\": \"text\"}\n",
    "         }}\n",
    "\n",
    "es.indices.create(index=\"question\",mappings=mapping)\n",
    "\n",
    "for i,row in df_q.iterrows():\n",
    "    doc = {\n",
    "      \"ID\" : row['Id'],\n",
    "      \"Body\" : row[\"Body\"],\n",
    "      \"Tags\" : row[\"Tags\"]\n",
    "    }\n",
    "    es.index(index=\"question\",id=row['Id'],document=doc)\n",
    "    \n",
    "es.indices.get(index='question')"
   ]
  },
  {
   "cell_type": "code",
   "execution_count": 62,
   "metadata": {},
   "outputs": [
    {
     "data": {
      "text/plain": [
       "ObjectApiResponse({'answer': {'aliases': {}, 'mappings': {'properties': {'ID': {'type': 'integer'}, 'PostId': {'type': 'integer'}, 'Text': {'type': 'text'}}}, 'settings': {'index': {'routing': {'allocation': {'include': {'_tier_preference': 'data_content'}}}, 'number_of_shards': '1', 'provided_name': 'answer', 'creation_date': '1672875259670', 'number_of_replicas': '1', 'uuid': 'fT0aOUGRQuW75lvmp8O2iQ', 'version': {'created': '8050399'}}}}})"
      ]
     },
     "execution_count": 62,
     "metadata": {},
     "output_type": "execute_result"
    }
   ],
   "source": [
    "# Create index Answer file\n",
    "dir_path = r'C:\\\\App\\\\Data\\\\Answer'\n",
    "\n",
    "files_list=os.listdir(dir_path)\n",
    "files_list=['C:\\\\App\\\\Data\\\\Answer\\\\'+x for x in files_list]\n",
    "\n",
    "df_a = pd.concat(map(pd.read_csv, files_list))\n",
    "df_a = df_a.fillna(\"\")\n",
    "\n",
    "mapping = {\n",
    "     \"properties\": {\n",
    "            \"ID\": {\"type\": \"integer\"},\n",
    "            \"PostId\" : {\"type\":\"integer\"},\n",
    "            \"Text\": {\"type\": \"text\"}\n",
    "         }}\n",
    "\n",
    "es.indices.create(index=\"answer\",mappings=mapping)\n",
    "\n",
    "for i,row in df_a.iterrows():\n",
    "    doc = {\n",
    "      \"ID\" : row['Id'],\n",
    "      \"Text\" : row[\"Text\"],\n",
    "      \"PostId\" : row[\"PostId\"]\n",
    "    }\n",
    "    es.index(index=\"answer\",id=row['Id'],document=doc)\n",
    "    \n",
    "es.indices.get(index='answer')"
   ]
  },
  {
   "cell_type": "code",
   "execution_count": 116,
   "metadata": {},
   "outputs": [],
   "source": [
    "def search_text(text):\n",
    "    results = es.search(index='question',query={\"match_phrase\":{\"Body\":text}})\n",
    "    all_hits = results['hits']['hits']\n",
    "    \n",
    "    for num, doc in enumerate(all_hits):\n",
    "        num = doc[\"_source\"][\"ID\"]\n",
    "        results2 = es.search(index='answer',query={\"match_phrase\":{\"PostId\":num}})\n",
    "        if results2['hits']['total']['value'] != 0:\n",
    "            all_hits2 = results2['hits']['hits']\n",
    "            for num2, doc2 in enumerate(all_hits2):\n",
    "                str_text = doc2['_source']['Text']\n",
    "                urls_list = re.findall(r'(https?://[^\\s]+)', str_text)\n",
    "                # Step 2\n",
    "                if len(urls_list) != 0 :\n",
    "                    print (\"DOC ID:\", doc2[\"_source\"][\"ID\"], \"\\n\", doc2['_source']['Text'], \"\\n\")\n",
    "                else :\n",
    "                    print (\"DOC ID:\", doc2[\"_source\"][\"ID\"], \"\\n\", doc2['_source']['Text'], \"\\n\")\n",
    "        \n"
   ]
  },
  {
   "cell_type": "code",
   "execution_count": 117,
   "metadata": {},
   "outputs": [
    {
     "name": "stdout",
     "output_type": "stream",
     "text": [
      "DOC ID: 59490692 \n",
      " There is not even close to a duplicate. [tag:vue.js] is a framework with a specific logic, different from vanila javascript \n",
      "\n",
      "DOC ID: 79940085 \n",
      " How can this be accomplished without vue-router? \n",
      "\n"
     ]
    }
   ],
   "source": [
    "search_text('Vue.js')"
   ]
  }
 ],
 "metadata": {
  "kernelspec": {
   "display_name": "Python 3 (ipykernel)",
   "language": "python",
   "name": "python3"
  },
  "language_info": {
   "codemirror_mode": {
    "name": "ipython",
    "version": 3
   },
   "file_extension": ".py",
   "mimetype": "text/x-python",
   "name": "python",
   "nbconvert_exporter": "python",
   "pygments_lexer": "ipython3",
   "version": "3.11.1"
  },
  "vscode": {
   "interpreter": {
    "hash": "5109d816b82be14675a6b11f8e0f0d2e80f029176ed3710d54e125caa8520dfd"
   }
  }
 },
 "nbformat": 4,
 "nbformat_minor": 2
}
